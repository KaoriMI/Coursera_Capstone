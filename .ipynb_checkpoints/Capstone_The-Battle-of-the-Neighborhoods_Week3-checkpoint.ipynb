{
 "cells": [
  {
   "cell_type": "markdown",
   "metadata": {},
   "source": [
    "# Capstone Project - The Battle of the Neighborhoods (Week3)\n",
    "### Applied Data Science Capstone by IBM/Coursera"
   ]
  },
  {
   "cell_type": "markdown",
   "metadata": {},
   "source": [
    "\n",
    "\n",
    "## Introduction: <a name=\"introduction\"></a>"
   ]
  },
  {
   "cell_type": "markdown",
   "metadata": {},
   "source": [
    "In this project, we will explore **Japanese restaurants** in **New York**. I am originally from Japan and it's been 5 years since I left my country. And, I enjoy trying out a Japanese restaurant when I travel. This report is targeted for people like me, who want to have Japanese food during the trip especially to a big city, New york. The reason of this feeling could be because you are not completely happy with the quality of your Japanese restaurants in your city or simply you want to try a new restaurant as the number of the Japanese restaurants in your city is limited.\n",
    "\n",
    "When people look for a restaurant, people mostly check the price, rating and location. Therefore, we will explore a Japanese restaurant in New York based on these criteria."
   ]
  },
  {
   "cell_type": "markdown",
   "metadata": {},
   "source": [
    "## Data <a name=\"data\"></a>"
   ]
  },
  {
   "cell_type": "markdown",
   "metadata": {},
   "source": [
    "We will look into the price tier, rating, and location of Japanese restaurants in New York.\n",
    "\n",
    "Also, we will check the density of hotel in each neighbourhood, although we will not look into the detail of the hotel in this project.\n",
    "People prefer to have dinner not too far from their hotel, and this information might help when people consider which area to stay.\n",
    "\n",
    "**Following data sources will be needed to extract/generate the required information:**\n",
    "\n",
    "* geographic coordinate of the boroughs and the neighborhoods in New York:\n",
    "  https://geo.nyu.edu/catalog/nyu_2451_34572\n",
    "\n",
    "* details of restaurants including price tier, rating, and location in New York: **Foursquare API**.\n",
    "\n",
    "* number of hotels in each Neighborhood Tabulation Areas (NTA):\n",
    "  https://data.cityofnewyork.us/City-Government/Hotels-Properties-Citywide/tjus-cn27\n",
    "\n",
    "* Gis data of Neighborhood Tabulation Areas (NTA) in New York:\n",
    "  https://data.cityofnewyork.us/City-Government/Neighborhood-Tabulation-Areas-NTA-/cpf4-rkhq\n",
    "\n",
    "* coordinate of New York center: **Google Maps API geocoding**."
   ]
  },
  {
   "cell_type": "code",
   "execution_count": null,
   "metadata": {},
   "outputs": [],
   "source": []
  }
 ],
 "metadata": {
  "kernelspec": {
   "display_name": "Python 3",
   "language": "python",
   "name": "python3"
  },
  "language_info": {
   "codemirror_mode": {
    "name": "ipython",
    "version": 3
   },
   "file_extension": ".py",
   "mimetype": "text/x-python",
   "name": "python",
   "nbconvert_exporter": "python",
   "pygments_lexer": "ipython3",
   "version": "3.7.6"
  }
 },
 "nbformat": 4,
 "nbformat_minor": 4
}
